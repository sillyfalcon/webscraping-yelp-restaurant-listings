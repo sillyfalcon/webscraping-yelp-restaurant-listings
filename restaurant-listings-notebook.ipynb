{
 "cells": [
  {
   "cell_type": "markdown",
   "metadata": {
    "id": "iPWxPLJ2Hz7s"
   },
   "source": [
    "# Webscraping restaurant listings from Yelp\n",
    "\n",
    "This project is a part of the [Zero to Data Analyst Bootcamp by Jovian](https://www.jovian.ai/data-analyst-bootcamp)\n",
    "![](https://imgur.com/YKrRS4U.png)\n"
   ]
  },
  {
   "cell_type": "markdown",
   "metadata": {
    "id": "a5ehQZIGHz73"
   },
   "source": [
    "Yelp is a San Fransisco, CA headquartered directory listing service. Its USP is user reviews, recommendations and ratings to find nearby restaurants, shopping, nightlife, food, entertainment, things to do and other services.\n",
    "\n",
    "**Problem Statement**: In this notebook we will write python functions that will create a CSV file containing details of\n",
    "    restaurants that are listed for the city of New York, USA on www.yelp.com.\n",
    "\n",
    "        Name: Name of the restaurant\n",
    "        Cuisine: Type of food\n",
    "        Stars: Rating based on user inputs for this restaurant\n",
    "        Reviews: Number of users who rated this restaurant\n",
    "        Address: Address of the restaurant\n",
    "        Contact: phone number\n",
    "        Website: Yelp url for the restaurant"
   ]
  },
  {
   "cell_type": "markdown",
   "metadata": {
    "id": "KiASm95tHz76"
   },
   "source": [
    "**Why is this data important?**\n",
    "\n",
    "Restaurant listing services are extremely helpful whether you are a foodie looking to explore world cuisine, a travellor in the city looking for the comforts of home or celebrating an occasion with your friends and family.\n",
    "    \n",
    "But did you know?\n",
    "\n",
    "- The restuarant business in the US recorded sales of \\\\$863 billion in 2019 and employs 12.5 million people? (\\\\$659 billion in 2020 due to the pandemic) This is about 4% of the US GDP.\n",
    "\n",
    "- 1 in 10 Americans are employed in the restaurant industry. Nearly one in three Americans had their first job at a restaurant\n",
    "\n",
    "- Consumers spent 49% of their food budget in restaurants before the pandemic in 2019.\n"
   ]
  },
  {
   "cell_type": "markdown",
   "metadata": {
    "id": "RUNoNNG2Hz7-"
   },
   "source": [
    "**Who will find this data useful?**\n",
    "\n",
    " _1) Diners/Customers:_ Seek the best restaurant in an area or offering a cuisine based on user reviews, compare prices\n",
    "\n",
    " _2) Restaurants:_ Use the data for various kinds of decision making.\n",
    " \n",
    "   - customer profiling, site selection, forecasting, customer relationship management, menu design            \n",
    "   - improve the brand, evaluate whether to open new branches, offer franchises\n",
    "   - understand changing customer behaviour post pandemic\n",
    "   - upgrade to newer technology to improve social engagement, integration of tech into delivery service\n",
    "\n",
    "_3) Startups in the restaurant space:_ Research trends to select suitable location, cuisine, menu design etc.\n",
    "\n",
    "_4) Investors:_ \n",
    "\n",
    "   - Identify the upstream and downstream business uch as restaurant aggregation to food delivery.e.g., zomato, swiggy\n",
    "   - Evaluate brand and social impact of the business, analyse competition\n",
    "   - New investing opportunites based on trends\n"
   ]
  },
  {
   "cell_type": "markdown",
   "metadata": {
    "id": "TVISozA2Hz8C"
   },
   "source": [
    "## How to run the code"
   ]
  },
  {
   "cell_type": "markdown",
   "metadata": {
    "id": "iLvOTo-OHz8H"
   },
   "source": [
    "- Click the \"Run\" button at the top of this page and select binder to run the code.\n",
    "\n",
    "- If you want to make changes, you could duplicate a version of this notebook, edit and save it on [Jovian](https://jovian.ai).\n",
    "  Run the following commands on your Jupyter notebook to save your changes."
   ]
  },
  {
   "cell_type": "code",
   "execution_count": null,
   "metadata": {
    "id": "x_Cxim8pHz8L"
   },
   "outputs": [],
   "source": [
    "project_name='restaurant-listings-notebook'"
   ]
  },
  {
   "cell_type": "code",
   "execution_count": null,
   "metadata": {
    "id": "PZSjqWsrHz8O"
   },
   "outputs": [],
   "source": [
    "!pip install jovian --upgrade --quiet"
   ]
  },
  {
   "cell_type": "code",
   "execution_count": null,
   "metadata": {
    "id": "vDRsUrxFHz8R"
   },
   "outputs": [],
   "source": [
    "import jovian"
   ]
  },
  {
   "cell_type": "code",
   "execution_count": null,
   "metadata": {
    "id": "lxqM9jcpHz8S",
    "outputId": "4a0a47f6-90b3-4712-ca97-56132900f6a4"
   },
   "outputs": [
    {
     "data": {
      "application/javascript": [
       "window.require && require([\"base/js/namespace\"],function(Jupyter){Jupyter.notebook.save_checkpoint()})"
      ],
      "text/plain": [
       "<IPython.core.display.Javascript object>"
      ]
     },
     "metadata": {},
     "output_type": "display_data"
    },
    {
     "name": "stdout",
     "output_type": "stream",
     "text": [
      "[jovian] Attempting to save notebook..\u001b[0m\n",
      "[jovian] Updating notebook \"anushree-k/restaurant-listings-notebook\" on https://jovian.ai\u001b[0m\n",
      "[jovian] Uploading notebook..\u001b[0m\n",
      "[jovian] Uploading additional files...\u001b[0m\n",
      "[jovian] Committed successfully! https://jovian.ai/anushree-k/restaurant-listings-notebook\u001b[0m\n"
     ]
    },
    {
     "data": {
      "text/plain": [
       "'https://jovian.ai/anushree-k/restaurant-listings-notebook'"
      ]
     },
     "execution_count": 4,
     "metadata": {},
     "output_type": "execute_result"
    }
   ],
   "source": [
    "jovian.commit(project=project_name, privacy='secret')"
   ]
  },
  {
   "cell_type": "markdown",
   "metadata": {
    "id": "MSKiGW6SHz8X"
   },
   "source": [
    "## How to read this notebook?\n",
    "\n",
    " This notebook is organised as follows:\n",
    " - **Section 1** : Import libraries\n",
    " - **Section 2** : Helper functions\n",
    " - **Section 3** : Exploratory code to identify revelant tags and attributes\n",
    " - **Section 4** : Main function which does the webscraping and writes the output to a CSV file."
   ]
  },
  {
   "cell_type": "markdown",
   "metadata": {
    "id": "robZvWnvHz8Y"
   },
   "source": [
    "### Section 1: Import libraries"
   ]
  },
  {
   "cell_type": "code",
   "execution_count": null,
   "metadata": {
    "id": "SR5u0FGhHz8Z"
   },
   "outputs": [],
   "source": [
    "!pip install jovian requests beautifulsoup4 --upgrade --quiet"
   ]
  },
  {
   "cell_type": "code",
   "execution_count": null,
   "metadata": {
    "id": "RAwvXpSfHz8a"
   },
   "outputs": [],
   "source": [
    "import jovian\n",
    "import requests\n",
    "from bs4 import BeautifulSoup\n",
    "import pandas as pd\n",
    "import os\n",
    "import time"
   ]
  },
  {
   "cell_type": "markdown",
   "metadata": {
    "id": "_7madIdRHz8c"
   },
   "source": [
    "### Section 2: Helper functions"
   ]
  },
  {
   "cell_type": "markdown",
   "metadata": {
    "id": "8DTbq-okHz8d"
   },
   "source": [
    "This section is built up gradually during the exploration of the BeautifulSoup object in section 3."
   ]
  },
  {
   "cell_type": "code",
   "execution_count": null,
   "metadata": {
    "id": "fs3GQ-8vHz8e"
   },
   "outputs": [],
   "source": [
    "# Helper functions \n",
    "\n",
    "def get_topic_page(url):\n",
    "    \"\"\"Read a url and get the html page contents as text from the response object.\n",
    "    Output: If successful returns the HTML text of the URL else raises an exception\"\"\"\n",
    "    \n",
    "    response = requests.get(topic_url)\n",
    "    \n",
    "    if response.status_code == 200:\n",
    "        page_contents = response.text\n",
    "    else:\n",
    "        print(\"Status code:\", response.status_code)\n",
    "        raise Exception(\"Failed to fetch web page\" + topic_url)\n",
    "    \n",
    "    return response.text\n",
    "\n",
    "def create_file(file_name, file_contents):\n",
    "    \"\"\"Create a HTML file of name file_name with the file_contents.\n",
    "    Output: Creates a HTML file with the file_name which includes path\"\"\"\n",
    "    \n",
    "    with open(file_name, 'w', encoding = 'utf-8') as file:\n",
    "        file.write(file_contents)\n",
    "    return\n",
    "\n",
    "def read_file(file_name):\n",
    "    \"\"\" Read a file HTML in this case and return the contents.\n",
    "    Output: Returns contents of the HTML file\"\"\"\n",
    "    \n",
    "    try:\n",
    "        with open(file_name, \"r\") as file:\n",
    "            page_contents = file.read()\n",
    "    except FileNotFoundError as fnf_error:\n",
    "        page_contents = []\n",
    "        print(fnf_error)\n",
    "        \n",
    "    return page_contents\n",
    "\n",
    "#Helper functions\n",
    "\n",
    "def write_csv(items, path):\n",
    "    \"\"\" Write the contents of items which is a list of dictionaries into a CSV file\n",
    "    Output: Creates a CSV file in the path specified\"\"\"\n",
    "    \n",
    "    with open(path, 'w') as f:\n",
    "        \n",
    "        #Return if there are no items\n",
    "        if len(items) == 0:\n",
    "            raise Exception(\"Restaurant list is empty\")\n",
    "            return\n",
    "        \n",
    "        #Write headers\n",
    "        headers = list(items[0].keys())\n",
    "        f.write(\",\".join(headers) +'\\n')\n",
    "        \n",
    "        #write one item per line\n",
    "        for item in items:\n",
    "            values = []\n",
    "            for header in headers:\n",
    "                #write \"\" if there is no value and double quote each field for multiple values in csv column\n",
    "                values.append('\"'+ str(item.get(header,\"\"))+'\"') \n",
    "            f.write(\",\".join(values)+'\\n')\n",
    "    return\n",
    "\n",
    "def parse_rating(rating_tag):\n",
    "    \"\"\"Clean up the rating_tag contents to extract the rating.\n",
    "    Output: Returns rating as a string\"\"\"\n",
    "    \n",
    "    rating = rating_tag['aria-label']\n",
    "    bad_chars = ['star rating']\n",
    "    for char in bad_chars:\n",
    "        rating = rating.replace(char,\"\").strip()\n",
    "        \n",
    "    return rating\n",
    "\n",
    "def is_possible_phonenumber(phone_str):\n",
    "    \"\"\"Check if the string contains a valid phone number. Simple validations for now\n",
    "    Output: Boolean True or False\"\"\"\n",
    "    \n",
    "    bad_chars = ['(',\")\",\"-\",\" \"]\n",
    "    for bad_char in bad_chars:\n",
    "        phone_str =  phone_str.replace(bad_char, \"\")\n",
    "    try:\n",
    "        if type(int(phone_str ) == 'int'):\n",
    "            return True\n",
    "    except ValueError:\n",
    "        pass\n",
    "    \n",
    "    return False\n",
    "\n",
    "def parse_contacts(contact_details):\n",
    "    \"\"\"Extracts phone and address from the list of strings in contact details.\n",
    "    Output: Dictionary with phone and address\"\"\"\n",
    "   \n",
    "    \n",
    "    phone = \"\"\n",
    "    address = \"\"\n",
    "\n",
    "    for item in contact_details:\n",
    "        if(is_possible_phonenumber(item)):\n",
    "            phone = item\n",
    "            address = \",\".join(contact_details[1:])\n",
    "                     \n",
    "    if not phone:\n",
    "        address = \",\".join(contact_details) \n",
    "\n",
    "    return {'phone': phone,\n",
    "        'address':address}\n",
    "       \n",
    "\n",
    "def parse_cuisine(cuisine_tag):\n",
    "    \"\"\"Clean up the cuisine_tag contents to extract the different cuisines.\n",
    "    Output: Returns cuisine as a single string\"\"\"\n",
    "    \n",
    "    cuisine = [link.text for link in cuisine_tag]\n",
    "    \n",
    "    return \",\".join(cuisine)\n",
    "\n",
    "\n",
    "def parse_restaurant(business_tag):\n",
    "    \"\"\"For each chosen unique tag that contains all the details about a restaurant, extract name, rating, \n",
    "    reviews, cuisine address, phone number.\n",
    "    \n",
    "    Output: Returns the details as a dictionary\"\"\"\n",
    "    try:\n",
    "        restaurant_name = business_tag.find(\"h4\", class_=\"css-1l5lt1i\").find(\"a\").text\n",
    "\n",
    "        rating_tag = business_tag.find(\"div\", class_=\"i-stars__09f24__1T6rz\")\n",
    "        rating = parse_rating(rating_tag)\n",
    "\n",
    "        num_reviews = business_tag.find(\"span\", class_=\"reviewCount__09f24__EUXPN css-e81eai\").text\n",
    "\n",
    "        cuisine_tag = business_tag.find_all(\"a\", class_ =\"css-1joxor6\")\n",
    "        cuisine = parse_cuisine(cuisine_tag)\n",
    "\n",
    "        contact = [contact_details.text for contact_details in business_tag.find_all(\"p\", class_=\"css-8jxw1i\")]\n",
    "        parsed_contacts = parse_contacts(contact)\n",
    "        phone = parsed_contacts['phone']\n",
    "        address = parsed_contacts['address']\n",
    "\n",
    "        yelp_link_tag = business_tag.find(\"a\", class_=\"css-166la90\")\n",
    "        yelp_link = base_url + yelp_link_tag['href']\n",
    "        \n",
    "    except Exception as error:\n",
    "        print(\"Error in method parse_restaurant\\n\" + error)\n",
    "        \n",
    "    return {\"restaurant\": restaurant_name,\n",
    "            \"rating\": rating,\n",
    "            \"reviews\": num_reviews,\n",
    "            \"cuisine\": cuisine,\n",
    "            \"phone\": phone,\n",
    "            \"address\": address,\n",
    "            \"yelp_link\": yelp_link}"
   ]
  },
  {
   "cell_type": "code",
   "execution_count": null,
   "metadata": {
    "id": "6MqIJjF-Hz8w",
    "outputId": "94231e12-4cfa-4532-aa22-3549f92dbf68"
   },
   "outputs": [
    {
     "data": {
      "application/javascript": [
       "window.require && require([\"base/js/namespace\"],function(Jupyter){Jupyter.notebook.save_checkpoint()})"
      ],
      "text/plain": [
       "<IPython.core.display.Javascript object>"
      ]
     },
     "metadata": {},
     "output_type": "display_data"
    },
    {
     "name": "stdout",
     "output_type": "stream",
     "text": [
      "[jovian] Attempting to save notebook..\u001b[0m\n",
      "[jovian] Updating notebook \"anushree-k/restaurant-listings-notebook\" on https://jovian.ai\u001b[0m\n",
      "[jovian] Uploading notebook..\u001b[0m\n",
      "[jovian] Uploading additional files...\u001b[0m\n",
      "[jovian] Committed successfully! https://jovian.ai/anushree-k/restaurant-listings-notebook\u001b[0m\n"
     ]
    },
    {
     "data": {
      "text/plain": [
       "'https://jovian.ai/anushree-k/restaurant-listings-notebook'"
      ]
     },
     "execution_count": 8,
     "metadata": {},
     "output_type": "execute_result"
    }
   ],
   "source": [
    "# Execute this to save new versions of the notebook\n",
    "jovian.commit(project= project_name)"
   ]
  },
  {
   "cell_type": "markdown",
   "metadata": {
    "id": "3MK9TjVlHz80"
   },
   "source": [
    "### Section 3: Exploratory code to identify revelant tags and attributes"
   ]
  },
  {
   "cell_type": "markdown",
   "metadata": {
    "id": "OwCQsf5_Hz81"
   },
   "source": [
    "Let us first visualise our output as below using googlesheets."
   ]
  },
  {
   "cell_type": "markdown",
   "metadata": {
    "id": "UworBeArHz81"
   },
   "source": [
    "![](https://imgur.com/2HTmkQh.png)"
   ]
  },
  {
   "cell_type": "markdown",
   "metadata": {
    "id": "sZEgtqrOHz83"
   },
   "source": [
    "Let us now explore the response text using BeautifulSoup search and filter functions to identify the unique tags and attributes which will give us the details we need."
   ]
  },
  {
   "cell_type": "code",
   "execution_count": null,
   "metadata": {
    "id": "QOQpb03uHz83",
    "outputId": "499352bf-141d-4ac6-82d4-378b223030c3"
   },
   "outputs": [
    {
     "data": {
      "text/plain": [
       "'https://www.yelp.com/search?cflt=restaurants&find_loc=New+York%2C+NY'"
      ]
     },
     "execution_count": 9,
     "metadata": {},
     "output_type": "execute_result"
    }
   ],
   "source": [
    "#Identify the main website to be scraped, the specific city - New York and store the relevant details\n",
    "base_url = \"https://www.yelp.com\"\n",
    "rel_url = \"/search?cflt=restaurants&find_loc=New+York%2C+NY\"\n",
    "\n",
    "topic_url = base_url+rel_url\n",
    "topic_url"
   ]
  },
  {
   "cell_type": "code",
   "execution_count": null,
   "metadata": {
    "id": "oHEihXJiHz87"
   },
   "outputs": [],
   "source": [
    "#Identify city. Helpful for future use if we want to search for listings in different cities\n",
    "pos = rel_url.find(\"find_loc=\")\n",
    "rel_url[pos+len(\"find_loc=\"):]\n",
    "city = \"New_York\"\n",
    "\n",
    "\n",
    "#Choose a sample url to start exploring relevant tags\n",
    "topic_url = \"https://www.yelp.com/search?cflt=restaurants&find_loc=New%20York%2C%20NY&start=10\"\n",
    "file_name = city+\"_restaurants_page_test.html\"\n"
   ]
  },
  {
   "cell_type": "code",
   "execution_count": null,
   "metadata": {
    "id": "4VLJZqIIHz88"
   },
   "outputs": [],
   "source": [
    "#Store the HTML file offline and read the contents\n",
    "create_file(file_name, get_topic_page(topic_url))\n",
    "page_contents = read_file(file_name)"
   ]
  },
  {
   "cell_type": "code",
   "execution_count": null,
   "metadata": {
    "id": "r4p_S_wtHz89"
   },
   "outputs": [],
   "source": [
    "#convert html contents to BeautifulSoup object\n",
    "soup_doc = BeautifulSoup(page_contents)"
   ]
  },
  {
   "cell_type": "markdown",
   "metadata": {
    "id": "IGXEsfEpHz89"
   },
   "source": [
    "HTML browsers such as chrome provide an `inspect` function which will help us navigate through the HTML page of the URL that we are interested in.\n",
    "\n",
    "Let us do the following:\n",
    "- open the topic_url: This will open up the webpage\n",
    "- Place your cursor over the area you are interested in \n",
    "- Right click and select inspect\n",
    "- click on inspect\n",
    "![](https://i.imgur.com/cycc84b.png)"
   ]
  },
  {
   "cell_type": "markdown",
   "metadata": {
    "id": "m-y3H1NnHz8-"
   },
   "source": [
    "We can now explore the HTML code to visually inspect the tags and attributes that we may find interesting. Let us start with the `<h4>` tag and then work our way up gradually to find the tag that holds all the details that we need."
   ]
  },
  {
   "cell_type": "markdown",
   "metadata": {
    "id": "l-jL5_hKHz8_"
   },
   "source": [
    "![](https://i.imgur.com/mXikE6v.png)"
   ]
  },
  {
   "cell_type": "markdown",
   "metadata": {
    "id": "FXm7hKNnHz9A"
   },
   "source": [
    "A bit of trial and error as we work up from choosing h4 tag as the unique tag to select each restaurant and work our way up to `\"div\", class_=\"scrollablePhotos__09f24__1PpB8\"`"
   ]
  },
  {
   "cell_type": "code",
   "execution_count": null,
   "metadata": {
    "id": "C3P1qNFxHz9B"
   },
   "outputs": [],
   "source": [
    "#h4_tag = soup_doc.find_all(\"h4\")\n",
    "#main_tag = h4_tag[0].find_parent().find_parent\n",
    "#div_tags = main_tag.find_all(\"div\")\n",
    "#len(div_tags)\n",
    "#for div in div_tags:\n",
    "#    print(div.attrs)"
   ]
  },
  {
   "cell_type": "code",
   "execution_count": null,
   "metadata": {
    "id": "a2ygRlb6Hz9D",
    "outputId": "385f5515-969f-46c8-96d2-9d53d5cf9da0"
   },
   "outputs": [
    {
     "data": {
      "text/plain": [
       "10"
      ]
     },
     "execution_count": 13,
     "metadata": {},
     "output_type": "execute_result"
    }
   ],
   "source": [
    "super_tags = soup_doc.find_all(\"div\", class_=\"scrollablePhotos__09f24__1PpB8\")\n",
    "len(super_tags)"
   ]
  },
  {
   "cell_type": "markdown",
   "metadata": {
    "id": "4H5Xy2FOHz9F"
   },
   "source": [
    "`<div>` tag with `class = \"scrollablePhotos__09f24__1PpB8\"` seems unique enough since there are 10 restaurants in the 1st page. Let us now try to find the relevant tags to get the complete details for the restaurant."
   ]
  },
  {
   "cell_type": "code",
   "execution_count": null,
   "metadata": {
    "id": "eXqjiGgpHz9G"
   },
   "outputs": [],
   "source": [
    "super_tag_0 = super_tags[0]"
   ]
  },
  {
   "cell_type": "code",
   "execution_count": null,
   "metadata": {
    "id": "9s2IRL6nHz9G"
   },
   "outputs": [],
   "source": [
    "business_name_tag = super_tag_0.find(\"h4\", class_=\"css-1l5lt1i\").find(\"a\")"
   ]
  },
  {
   "cell_type": "code",
   "execution_count": null,
   "metadata": {
    "id": "sofOJ-KgHz9H",
    "outputId": "06ace080-fbd6-45c8-94a8-c47fbd998a16"
   },
   "outputs": [
    {
     "data": {
      "text/plain": [
       "'La Contenta'"
      ]
     },
     "execution_count": 16,
     "metadata": {},
     "output_type": "execute_result"
    }
   ],
   "source": [
    "restaurant_name = business_name_tag.text\n",
    "restaurant_name"
   ]
  },
  {
   "cell_type": "code",
   "execution_count": null,
   "metadata": {
    "id": "ayf3J2xaHz9J",
    "outputId": "0da9f520-589b-42a5-c326-305c9fd74f30"
   },
   "outputs": [
    {
     "data": {
      "text/plain": [
       "'4.5 star rating'"
      ]
     },
     "execution_count": 17,
     "metadata": {},
     "output_type": "execute_result"
    }
   ],
   "source": [
    "rating = super_tag_0.find(\"div\", class_=\"i-stars__09f24__1T6rz\")[\"aria-label\"]\n",
    "rating"
   ]
  },
  {
   "cell_type": "code",
   "execution_count": null,
   "metadata": {
    "id": "Jfd26xCOHz9Q",
    "outputId": "835aec38-4501-4f2d-a197-cb010eaa3b04"
   },
   "outputs": [
    {
     "data": {
      "text/plain": [
       "'4.5'"
      ]
     },
     "execution_count": 18,
     "metadata": {},
     "output_type": "execute_result"
    }
   ],
   "source": [
    "bad_chars = ['star rating']\n",
    "for char in bad_chars:\n",
    "    rating = rating.replace(char,\"\").strip()\n",
    "rating"
   ]
  },
  {
   "cell_type": "code",
   "execution_count": null,
   "metadata": {
    "id": "SWt8oE7GHz9Y",
    "outputId": "37358c24-1217-4158-e4da-b35203265946"
   },
   "outputs": [
    {
     "data": {
      "text/plain": [
       "'777'"
      ]
     },
     "execution_count": 20,
     "metadata": {},
     "output_type": "execute_result"
    }
   ],
   "source": [
    "num_reviews = super_tag_0.find(\"span\", class_=\"reviewCount__09f24__EUXPN css-e81eai\").text\n",
    "num_reviews"
   ]
  },
  {
   "cell_type": "code",
   "execution_count": null,
   "metadata": {
    "id": "fF4AE2fHHz9a",
    "outputId": "f7eaa397-9a24-46ab-982c-f608ff284ffc"
   },
   "outputs": [
    {
     "data": {
      "text/plain": [
       "['Mexican', 'Bars', 'Breakfast & Brunch']"
      ]
     },
     "execution_count": 21,
     "metadata": {},
     "output_type": "execute_result"
    }
   ],
   "source": [
    "cuisine_tag = super_tag_0.find_all(\"a\", class_ =\"css-1joxor6\")\n",
    "cuisine = [link.text for link in cuisine_tag]\n",
    "cuisine"
   ]
  },
  {
   "cell_type": "code",
   "execution_count": null,
   "metadata": {
    "id": "P_vYWIFPHz9d",
    "outputId": "b9cf863d-e34f-458d-8ee6-332ec9029e51"
   },
   "outputs": [
    {
     "name": "stdout",
     "output_type": "stream",
     "text": [
      "Phone: (212) 432-4180\n",
      "Address:  102 Norfolk St,Lower East Side\n"
     ]
    }
   ],
   "source": [
    "address_tag = super_tag_0.find(\"div\", class_=\"secondaryAttributes__09f24__3db5x\")\n",
    "contact = [contact_details.text for contact_details in super_tag_0.find_all(\"p\", class_=\"css-8jxw1i\")]\n",
    "phone = contact[0]\n",
    "address = \",\".join(contact[1:])\n",
    "print(\"Phone:\", phone)\n",
    "print(\"Address: \", address)"
   ]
  },
  {
   "cell_type": "code",
   "execution_count": null,
   "metadata": {
    "id": "0oZa_izGHz9e"
   },
   "outputs": [],
   "source": [
    "sample_contact = [ \"(212) 432-4180\",\n",
    "            \"102 Norfolk St\",\n",
    "            \"Lower East Side\"]"
   ]
  },
  {
   "cell_type": "code",
   "execution_count": null,
   "metadata": {
    "id": "b2fyVBEvHz9f",
    "outputId": "54784fd4-15e3-42b2-9bbb-9e58b99001e7"
   },
   "outputs": [
    {
     "name": "stdout",
     "output_type": "stream",
     "text": [
      "(212) 432-4180\n",
      "102 Norfolk St,Lower East Side\n"
     ]
    }
   ],
   "source": [
    "phone = \"\"\n",
    "address = \"\"\n",
    "\n",
    "for item in sample_contact:\n",
    "    if(is_possible_phonenumber(item)):\n",
    "        phone = item\n",
    "        address = \",\".join(sample_contact[1:])\n",
    "                     \n",
    "if not phone:\n",
    "    address = \",\".join(sample_contact) \n",
    "\n",
    "print(phone)\n",
    "print(address)"
   ]
  },
  {
   "cell_type": "code",
   "execution_count": null,
   "metadata": {
    "id": "C_DN5ld9Hz9h",
    "outputId": "09026bf9-6b60-4255-807f-02bdaa97cc6b"
   },
   "outputs": [
    {
     "data": {
      "text/plain": [
       "'(212) 432-4180'"
      ]
     },
     "execution_count": 25,
     "metadata": {},
     "output_type": "execute_result"
    }
   ],
   "source": [
    "parsed_contacts = parse_contacts(sample_contact)\n",
    "parsed_contacts['phone']"
   ]
  },
  {
   "cell_type": "code",
   "execution_count": null,
   "metadata": {
    "id": "XNPoJoWFHz9i",
    "outputId": "0d6b340d-5d6e-46b8-f318-e3fa3349a576"
   },
   "outputs": [
    {
     "data": {
      "text/plain": [
       "'https://www.yelp.com/biz/la-contenta-new-york'"
      ]
     },
     "execution_count": 26,
     "metadata": {},
     "output_type": "execute_result"
    }
   ],
   "source": [
    "yelp_link_tag = super_tag_0.find(\"a\", class_=\"css-166la90\")\n",
    "yelp_link = base_url + yelp_link_tag['href']\n",
    "yelp_link"
   ]
  },
  {
   "cell_type": "code",
   "execution_count": null,
   "metadata": {
    "id": "KxrkG0X7Hz9j",
    "outputId": "9b92d327-3f44-4299-ee05-27c49a5b24da"
   },
   "outputs": [
    {
     "name": "stdout",
     "output_type": "stream",
     "text": [
      "Restaurant name:  La Contenta\n",
      "Rating:  4.5\n",
      "Reviews:  777\n",
      "Cuisine:  Mexican,Bars,Breakfast & Brunch\n",
      "Phone:  (212) 432-4180\n",
      "Address:  102 Norfolk St,Lower East Side\n",
      "Yelp link:  https://www.yelp.com/biz/la-contenta-new-york\n"
     ]
    }
   ],
   "source": [
    "print(\"Restaurant name: \", restaurant_name)\n",
    "print(\"Rating: \", rating)\n",
    "print(\"Reviews: \", num_reviews)\n",
    "print(\"Cuisine: \", \",\".join(cuisine))\n",
    "print(\"Phone: \", phone)\n",
    "print(\"Address: \", address)\n",
    "print(\"Yelp link: \", yelp_link)"
   ]
  },
  {
   "cell_type": "code",
   "execution_count": null,
   "metadata": {
    "id": "A5MeRADuHz9k",
    "outputId": "6c97aacb-aa16-4fc8-a27a-633639187fa2"
   },
   "outputs": [
    {
     "data": {
      "application/javascript": [
       "window.require && require([\"base/js/namespace\"],function(Jupyter){Jupyter.notebook.save_checkpoint()})"
      ],
      "text/plain": [
       "<IPython.core.display.Javascript object>"
      ]
     },
     "metadata": {},
     "output_type": "display_data"
    },
    {
     "name": "stdout",
     "output_type": "stream",
     "text": [
      "[jovian] Attempting to save notebook..\u001b[0m\n",
      "[jovian] Updating notebook \"anushree-k/restaurant-listings-notebook\" on https://jovian.ai\u001b[0m\n",
      "[jovian] Uploading notebook..\u001b[0m\n",
      "[jovian] Uploading additional files...\u001b[0m\n",
      "[jovian] Committed successfully! https://jovian.ai/anushree-k/restaurant-listings-notebook\u001b[0m\n"
     ]
    },
    {
     "data": {
      "text/plain": [
       "'https://jovian.ai/anushree-k/restaurant-listings-notebook'"
      ]
     },
     "execution_count": 28,
     "metadata": {},
     "output_type": "execute_result"
    }
   ],
   "source": [
    "# Execute this to save new versions of the notebook\n",
    "jovian.commit(project= project_name)"
   ]
  },
  {
   "cell_type": "markdown",
   "metadata": {
    "id": "N8K9E0V6Hz9l"
   },
   "source": [
    "### Section 4: Main function which scrapes yelp.com for restaurants in NY, USA and writes the output to a CSV file."
   ]
  },
  {
   "cell_type": "markdown",
   "metadata": {
    "id": "R-J9fFB2Hz9m"
   },
   "source": [
    "Now let us write the main function with all the features that we have extracted so far."
   ]
  },
  {
   "cell_type": "markdown",
   "metadata": {
    "id": "YjNzt71zHz9n"
   },
   "source": [
    "**Steps we'll follow:**\n",
    "1. Identify the webpage to be scraped\n",
    "2. Download the webpage using `requests` and save it into a HTML file\n",
    "3. Parse the HTML code using BeautifulSoup\n",
    "4. Compile the extracted details into Python lists and dictionaries `parse_restaurant()`\n",
    "5. Introduce a time delay of 1 second for ethical scraping\n",
    "6. Extract and combine data for multiple pages - `for ...loop:`\n",
    "7. Write the combined data into a CSV file"
   ]
  },
  {
   "cell_type": "code",
   "execution_count": null,
   "metadata": {
    "id": "BuAmg7SfHz9n"
   },
   "outputs": [],
   "source": [
    "#Note: introduce a delay between each page request call for polite crawling\n",
    "\n",
    "\n",
    "restaurant_list = []\n",
    "base_url = \"https://www.yelp.com\"\n",
    "search_url = \"https://www.yelp.com/search?cflt=restaurants&find_loc=New%20York%2C%20NY&start=\"\n",
    "\n",
    "#Loop for at least 10 search page results\n",
    "try:\n",
    "    \n",
    "    #for i in range(0,24):\n",
    "    #Using just a single page for trial runs\n",
    "    for i in range(0,1):\n",
    "        topic_url = search_url+str((i)*10)\n",
    "        file_name = city+\"_restaurants_page_\"+ str((i))+\".html\"\n",
    "        create_file(file_name, get_topic_page(topic_url))\n",
    "        page_contents = read_file(file_name)\n",
    "        soup_doc = BeautifulSoup(page_contents)\n",
    "        business_tags = soup_doc.find_all(\"div\", class_=\"scrollablePhotos__09f24__1PpB8\")\n",
    "        restaurant_list.extend([parse_restaurant(business_tag) for business_tag in business_tags])\n",
    "        time.sleep(1) \n",
    "except Exception as error:\n",
    "    print(error)"
   ]
  },
  {
   "cell_type": "code",
   "execution_count": null,
   "metadata": {
    "id": "xWbYpc8gHz9o"
   },
   "outputs": [],
   "source": [
    "write_csv(restaurant_list, \"Yelp_NY_restaurant_list.csv\")"
   ]
  },
  {
   "cell_type": "code",
   "execution_count": null,
   "metadata": {
    "id": "eeVZoa3JHz9p",
    "outputId": "d10de54b-7950-4d82-c167-746ab8b2d5b4"
   },
   "outputs": [
    {
     "data": {
      "text/html": [
       "<div>\n",
       "<style scoped>\n",
       "    .dataframe tbody tr th:only-of-type {\n",
       "        vertical-align: middle;\n",
       "    }\n",
       "\n",
       "    .dataframe tbody tr th {\n",
       "        vertical-align: top;\n",
       "    }\n",
       "\n",
       "    .dataframe thead th {\n",
       "        text-align: right;\n",
       "    }\n",
       "</style>\n",
       "<table border=\"1\" class=\"dataframe\">\n",
       "  <thead>\n",
       "    <tr style=\"text-align: right;\">\n",
       "      <th></th>\n",
       "      <th>restaurant</th>\n",
       "      <th>rating</th>\n",
       "      <th>reviews</th>\n",
       "      <th>cuisine</th>\n",
       "      <th>phone</th>\n",
       "      <th>address</th>\n",
       "      <th>yelp_link</th>\n",
       "    </tr>\n",
       "  </thead>\n",
       "  <tbody>\n",
       "    <tr>\n",
       "      <th>0</th>\n",
       "      <td>The Cabin NYC</td>\n",
       "      <td>4</td>\n",
       "      <td>275</td>\n",
       "      <td>American (New),Cocktail Bars,Breakfast &amp; Brunch</td>\n",
       "      <td>(212) 777-0454</td>\n",
       "      <td>205 E 4th St,East Village</td>\n",
       "      <td>https://www.yelp.com/biz/the-cabin-nyc-new-york-2</td>\n",
       "    </tr>\n",
       "    <tr>\n",
       "      <th>1</th>\n",
       "      <td>The Osprey</td>\n",
       "      <td>4</td>\n",
       "      <td>231</td>\n",
       "      <td>American (New)</td>\n",
       "      <td>(929) 414-0012</td>\n",
       "      <td>60 Furman St</td>\n",
       "      <td>https://www.yelp.com/biz/the-osprey-brooklyn</td>\n",
       "    </tr>\n",
       "    <tr>\n",
       "      <th>2</th>\n",
       "      <td>Thursday Kitchen</td>\n",
       "      <td>4.5</td>\n",
       "      <td>1385</td>\n",
       "      <td>Korean,American (New),Tapas/Small Plates</td>\n",
       "      <td></td>\n",
       "      <td>424 E 9th St,East Village</td>\n",
       "      <td>https://www.yelp.com/biz/thursday-kitchen-new-...</td>\n",
       "    </tr>\n",
       "    <tr>\n",
       "      <th>3</th>\n",
       "      <td>Cecconi’s Dumbo</td>\n",
       "      <td>3.5</td>\n",
       "      <td>766</td>\n",
       "      <td>Italian</td>\n",
       "      <td>(718) 650-3900</td>\n",
       "      <td>55 Water St,DUMBO</td>\n",
       "      <td>https://www.yelp.com/biz/cecconis-dumbo-brooklyn</td>\n",
       "    </tr>\n",
       "    <tr>\n",
       "      <th>4</th>\n",
       "      <td>Amélie</td>\n",
       "      <td>4.5</td>\n",
       "      <td>2718</td>\n",
       "      <td>French,Wine Bars</td>\n",
       "      <td>(212) 533-2962</td>\n",
       "      <td>22 W 8th St,Greenwich Village</td>\n",
       "      <td>https://www.yelp.com/biz/am%C3%A9lie-new-york</td>\n",
       "    </tr>\n",
       "    <tr>\n",
       "      <th>...</th>\n",
       "      <td>...</td>\n",
       "      <td>...</td>\n",
       "      <td>...</td>\n",
       "      <td>...</td>\n",
       "      <td>...</td>\n",
       "      <td>...</td>\n",
       "      <td>...</td>\n",
       "    </tr>\n",
       "    <tr>\n",
       "      <th>235</th>\n",
       "      <td>MONOMONO</td>\n",
       "      <td>4</td>\n",
       "      <td>493</td>\n",
       "      <td>Korean,Cocktail Bars</td>\n",
       "      <td>(917) 285-5034</td>\n",
       "      <td>116 E 4th St,East Village</td>\n",
       "      <td>https://www.yelp.com/biz/monomono-new-york-2</td>\n",
       "    </tr>\n",
       "    <tr>\n",
       "      <th>236</th>\n",
       "      <td>Juicy King Crab Express</td>\n",
       "      <td>4.5</td>\n",
       "      <td>7</td>\n",
       "      <td>Seafood,Cajun/Creole</td>\n",
       "      <td>(917) 639-3088</td>\n",
       "      <td>213 East Broadway,Lower East Side</td>\n",
       "      <td>https://www.yelp.com/biz/juicy-king-crab-expre...</td>\n",
       "    </tr>\n",
       "    <tr>\n",
       "      <th>237</th>\n",
       "      <td>The Fulton</td>\n",
       "      <td>3.5</td>\n",
       "      <td>209</td>\n",
       "      <td>Seafood,Pasta Shops,Sandwiches</td>\n",
       "      <td>(212) 838-1200</td>\n",
       "      <td>89 S St,South Street Seaport</td>\n",
       "      <td>https://www.yelp.com/biz/the-fulton-new-york-2</td>\n",
       "    </tr>\n",
       "    <tr>\n",
       "      <th>238</th>\n",
       "      <td>Da Andrea</td>\n",
       "      <td>4</td>\n",
       "      <td>819</td>\n",
       "      <td>Tuscan</td>\n",
       "      <td>(212) 367-1979</td>\n",
       "      <td>35 W 13th St,Greenwich Village</td>\n",
       "      <td>https://www.yelp.com/biz/da-andrea-new-york</td>\n",
       "    </tr>\n",
       "    <tr>\n",
       "      <th>239</th>\n",
       "      <td>Olea</td>\n",
       "      <td>4</td>\n",
       "      <td>898</td>\n",
       "      <td>Tapas Bars,Breakfast &amp; Brunch,Mediterranean</td>\n",
       "      <td>(718) 643-7003</td>\n",
       "      <td>171 Lafayette Ave,Fort Greene</td>\n",
       "      <td>https://www.yelp.com/biz/olea-brooklyn-2</td>\n",
       "    </tr>\n",
       "  </tbody>\n",
       "</table>\n",
       "<p>240 rows × 7 columns</p>\n",
       "</div>"
      ],
      "text/plain": [
       "                  restaurant rating reviews  \\\n",
       "0              The Cabin NYC      4     275   \n",
       "1                 The Osprey      4     231   \n",
       "2           Thursday Kitchen    4.5    1385   \n",
       "3            Cecconi’s Dumbo    3.5     766   \n",
       "4                     Amélie    4.5    2718   \n",
       "..                       ...    ...     ...   \n",
       "235                 MONOMONO      4     493   \n",
       "236  Juicy King Crab Express    4.5       7   \n",
       "237               The Fulton    3.5     209   \n",
       "238                Da Andrea      4     819   \n",
       "239                     Olea      4     898   \n",
       "\n",
       "                                             cuisine           phone  \\\n",
       "0    American (New),Cocktail Bars,Breakfast & Brunch  (212) 777-0454   \n",
       "1                                     American (New)  (929) 414-0012   \n",
       "2           Korean,American (New),Tapas/Small Plates                   \n",
       "3                                            Italian  (718) 650-3900   \n",
       "4                                   French,Wine Bars  (212) 533-2962   \n",
       "..                                               ...             ...   \n",
       "235                             Korean,Cocktail Bars  (917) 285-5034   \n",
       "236                             Seafood,Cajun/Creole  (917) 639-3088   \n",
       "237                   Seafood,Pasta Shops,Sandwiches  (212) 838-1200   \n",
       "238                                           Tuscan  (212) 367-1979   \n",
       "239      Tapas Bars,Breakfast & Brunch,Mediterranean  (718) 643-7003   \n",
       "\n",
       "                               address  \\\n",
       "0            205 E 4th St,East Village   \n",
       "1                         60 Furman St   \n",
       "2            424 E 9th St,East Village   \n",
       "3                    55 Water St,DUMBO   \n",
       "4        22 W 8th St,Greenwich Village   \n",
       "..                                 ...   \n",
       "235          116 E 4th St,East Village   \n",
       "236  213 East Broadway,Lower East Side   \n",
       "237       89 S St,South Street Seaport   \n",
       "238     35 W 13th St,Greenwich Village   \n",
       "239      171 Lafayette Ave,Fort Greene   \n",
       "\n",
       "                                             yelp_link  \n",
       "0    https://www.yelp.com/biz/the-cabin-nyc-new-york-2  \n",
       "1         https://www.yelp.com/biz/the-osprey-brooklyn  \n",
       "2    https://www.yelp.com/biz/thursday-kitchen-new-...  \n",
       "3     https://www.yelp.com/biz/cecconis-dumbo-brooklyn  \n",
       "4        https://www.yelp.com/biz/am%C3%A9lie-new-york  \n",
       "..                                                 ...  \n",
       "235       https://www.yelp.com/biz/monomono-new-york-2  \n",
       "236  https://www.yelp.com/biz/juicy-king-crab-expre...  \n",
       "237     https://www.yelp.com/biz/the-fulton-new-york-2  \n",
       "238        https://www.yelp.com/biz/da-andrea-new-york  \n",
       "239           https://www.yelp.com/biz/olea-brooklyn-2  \n",
       "\n",
       "[240 rows x 7 columns]"
      ]
     },
     "execution_count": 35,
     "metadata": {},
     "output_type": "execute_result"
    }
   ],
   "source": [
    "pd.DataFrame(restaurant_list)"
   ]
  },
  {
   "cell_type": "code",
   "execution_count": null,
   "metadata": {
    "id": "9V3R-nIRHz9q",
    "outputId": "0c586c17-d934-4ec8-e11a-3079ed6a1cb3"
   },
   "outputs": [
    {
     "data": {
      "application/javascript": [
       "window.require && require([\"base/js/namespace\"],function(Jupyter){Jupyter.notebook.save_checkpoint()})"
      ],
      "text/plain": [
       "<IPython.core.display.Javascript object>"
      ]
     },
     "metadata": {},
     "output_type": "display_data"
    },
    {
     "name": "stdout",
     "output_type": "stream",
     "text": [
      "[jovian] Attempting to save notebook..\u001b[0m\n"
     ]
    }
   ],
   "source": [
    "# Execute this to save the notebook and the CSV file that we have compiled using webscraping\n",
    "jovian.commit(project= project_name, out=\"Yelp_NY_restaurant_list.csv\")"
   ]
  },
  {
   "cell_type": "markdown",
   "metadata": {
    "id": "tLYQ_KEQHz9r"
   },
   "source": [
    "## Summary\n",
    "\n",
    "The project of extracting the list of restaurants and writing the contents into a CSV file is now complete.\n",
    "We used Python, Requests and BeautifulSoup to extract the information that we required.\n",
    "\n",
    "The CSV file contains **7 columns and 240 rows of data** from **24 pages of HTML** from www.yelp.com\n",
    "\n",
    "        1. Name: Name of the restaurant\n",
    "        2. Cuisine: Type of food\n",
    "        3. Stars: Rating based on user inputs for this restaurant\n",
    "        4. Reviews: Number of users who rated this restaurant\n",
    "        5. Address: Address of the restaurant\n",
    "        6. Contact: phone number\n",
    "        7. Website: Yelp url for the restaurant\n",
    "\n",
    "Here is a snapshot of the CSV file"
   ]
  },
  {
   "cell_type": "markdown",
   "metadata": {
    "id": "tWKoGTXuHz9s"
   },
   "source": [
    "![](https://i.imgur.com/TMsuhNV.png)"
   ]
  },
  {
   "cell_type": "markdown",
   "metadata": {
    "id": "xsg6VNk1Hz9t"
   },
   "source": [
    "### Future Work"
   ]
  },
  {
   "cell_type": "markdown",
   "metadata": {
    "id": "vKKbjTnDHz9u"
   },
   "source": [
    "1. Extract additional information such as dietary preferences, dining in or takeaway etc.\n",
    "2. Extract details from individual restaurant listings on www.yelp.com using the URLs collected.\n",
    "3. Exploratory analysis on the collected data. Visit this [blog post on Zomato data on towardsdatascience](https://towardsdatascience.com/zomato-bangalore-data-analysis-6ee83652890f) for ideas \n",
    "4. Launch your Startup with your own product similar to [RestaurantData](https://www.restaurantdata.com/) and many more\n"
   ]
  },
  {
   "cell_type": "markdown",
   "metadata": {
    "id": "EJcZ5C_jHz9v"
   },
   "source": [
    "### References"
   ]
  },
  {
   "cell_type": "markdown",
   "metadata": {
    "id": "xhTO2qSNHz9w"
   },
   "source": [
    "1. More on webscraping\n",
    "\n",
    "    [Jovian tutorial on webscraping](https://jovian.ai/learn/zero-to-data-analyst-bootcamp/lesson/web-scraping-and-rest-apis)      \n",
    "    [Jovian workshop on webscraping](https://www.youtube.com/watch?v=RKsLLG-bzEY)      \n",
    "    [Requests documentation](https://docs.python-requests.org/en/master/)     \n",
    "    [BeautifulSoup documentation](https://www.crummy.com/software/BeautifulSoup/bs4/doc/)  \n",
    "    \n",
    "    \n",
    "2. US Restaurant Industry statistics\n",
    "\n",
    "   [US restaurant industry facts](https://restaurant.org/research/restaurant-statistics/restaurant-industry-facts-at-a-glance)      \n",
    "   [restaurant industry statistics](https://upserve.com/restaurant-insider/industry-statistics/) \n",
    "   \n",
    "        \n",
    "3. Online coding forums, tutorials and repositories\n",
    "\n",
    "    www.stackoverflow.com      \n",
    "    www.geeksforgeeks.com  \n",
    "    www.towardsdatascience.com\n",
    "\n"
   ]
  },
  {
   "cell_type": "code",
   "execution_count": null,
   "metadata": {
    "id": "Xw1_MExmHz9x"
   },
   "outputs": [],
   "source": []
  }
 ],
 "metadata": {
  "colab": {
   "name": "restaurant-listings-notebook.ipynb",
   "provenance": []
  },
  "kernelspec": {
   "display_name": "Python 3",
   "language": "python",
   "name": "python3"
  },
  "language_info": {
   "codemirror_mode": {
    "name": "ipython",
    "version": 3
   },
   "file_extension": ".py",
   "mimetype": "text/x-python",
   "name": "python",
   "nbconvert_exporter": "python",
   "pygments_lexer": "ipython3",
   "version": "3.8.6"
  }
 },
 "nbformat": 4,
 "nbformat_minor": 0
}